{
 "cells": [
  {
   "cell_type": "markdown",
   "id": "6951069a",
   "metadata": {},
   "source": [
    "# 1. Importing Libraries and dataset"
   ]
  },
  {
   "cell_type": "code",
   "execution_count": 1,
   "id": "0faa7a1c",
   "metadata": {},
   "outputs": [],
   "source": [
    "#Importing necessary libraries\n",
    "import pandas as pd\n",
    "import numpy as np\n",
    "import matplotlib.pyplot as plt\n",
    "import seaborn as sns\n",
    "import warnings\n",
    "warnings.filterwarnings('ignore')"
   ]
  },
  {
   "cell_type": "code",
   "execution_count": 2,
   "id": "bb245cf3",
   "metadata": {},
   "outputs": [
    {
     "data": {
      "text/html": [
       "<div>\n",
       "<style scoped>\n",
       "    .dataframe tbody tr th:only-of-type {\n",
       "        vertical-align: middle;\n",
       "    }\n",
       "\n",
       "    .dataframe tbody tr th {\n",
       "        vertical-align: top;\n",
       "    }\n",
       "\n",
       "    .dataframe thead th {\n",
       "        text-align: right;\n",
       "    }\n",
       "</style>\n",
       "<table border=\"1\" class=\"dataframe\">\n",
       "  <thead>\n",
       "    <tr style=\"text-align: right;\">\n",
       "      <th></th>\n",
       "      <th>PassengerId</th>\n",
       "      <th>Survived</th>\n",
       "      <th>Pclass</th>\n",
       "      <th>Name</th>\n",
       "      <th>Sex</th>\n",
       "      <th>Age</th>\n",
       "      <th>SibSp</th>\n",
       "      <th>Parch</th>\n",
       "      <th>Ticket</th>\n",
       "      <th>Fare</th>\n",
       "      <th>Cabin</th>\n",
       "      <th>Embarked</th>\n",
       "    </tr>\n",
       "  </thead>\n",
       "  <tbody>\n",
       "    <tr>\n",
       "      <th>0</th>\n",
       "      <td>1</td>\n",
       "      <td>0</td>\n",
       "      <td>3</td>\n",
       "      <td>Braund, Mr. Owen Harris</td>\n",
       "      <td>male</td>\n",
       "      <td>22.0</td>\n",
       "      <td>1</td>\n",
       "      <td>0</td>\n",
       "      <td>A/5 21171</td>\n",
       "      <td>7.2500</td>\n",
       "      <td>NaN</td>\n",
       "      <td>S</td>\n",
       "    </tr>\n",
       "    <tr>\n",
       "      <th>1</th>\n",
       "      <td>2</td>\n",
       "      <td>1</td>\n",
       "      <td>1</td>\n",
       "      <td>Cumings, Mrs. John Bradley (Florence Briggs Th...</td>\n",
       "      <td>female</td>\n",
       "      <td>38.0</td>\n",
       "      <td>1</td>\n",
       "      <td>0</td>\n",
       "      <td>PC 17599</td>\n",
       "      <td>71.2833</td>\n",
       "      <td>C85</td>\n",
       "      <td>C</td>\n",
       "    </tr>\n",
       "    <tr>\n",
       "      <th>2</th>\n",
       "      <td>3</td>\n",
       "      <td>1</td>\n",
       "      <td>3</td>\n",
       "      <td>Heikkinen, Miss. Laina</td>\n",
       "      <td>female</td>\n",
       "      <td>26.0</td>\n",
       "      <td>0</td>\n",
       "      <td>0</td>\n",
       "      <td>STON/O2. 3101282</td>\n",
       "      <td>7.9250</td>\n",
       "      <td>NaN</td>\n",
       "      <td>S</td>\n",
       "    </tr>\n",
       "    <tr>\n",
       "      <th>3</th>\n",
       "      <td>4</td>\n",
       "      <td>1</td>\n",
       "      <td>1</td>\n",
       "      <td>Futrelle, Mrs. Jacques Heath (Lily May Peel)</td>\n",
       "      <td>female</td>\n",
       "      <td>35.0</td>\n",
       "      <td>1</td>\n",
       "      <td>0</td>\n",
       "      <td>113803</td>\n",
       "      <td>53.1000</td>\n",
       "      <td>C123</td>\n",
       "      <td>S</td>\n",
       "    </tr>\n",
       "    <tr>\n",
       "      <th>4</th>\n",
       "      <td>5</td>\n",
       "      <td>0</td>\n",
       "      <td>3</td>\n",
       "      <td>Allen, Mr. William Henry</td>\n",
       "      <td>male</td>\n",
       "      <td>35.0</td>\n",
       "      <td>0</td>\n",
       "      <td>0</td>\n",
       "      <td>373450</td>\n",
       "      <td>8.0500</td>\n",
       "      <td>NaN</td>\n",
       "      <td>S</td>\n",
       "    </tr>\n",
       "  </tbody>\n",
       "</table>\n",
       "</div>"
      ],
      "text/plain": [
       "   PassengerId  Survived  Pclass  \\\n",
       "0            1         0       3   \n",
       "1            2         1       1   \n",
       "2            3         1       3   \n",
       "3            4         1       1   \n",
       "4            5         0       3   \n",
       "\n",
       "                                                Name     Sex   Age  SibSp  \\\n",
       "0                            Braund, Mr. Owen Harris    male  22.0      1   \n",
       "1  Cumings, Mrs. John Bradley (Florence Briggs Th...  female  38.0      1   \n",
       "2                             Heikkinen, Miss. Laina  female  26.0      0   \n",
       "3       Futrelle, Mrs. Jacques Heath (Lily May Peel)  female  35.0      1   \n",
       "4                           Allen, Mr. William Henry    male  35.0      0   \n",
       "\n",
       "   Parch            Ticket     Fare Cabin Embarked  \n",
       "0      0         A/5 21171   7.2500   NaN        S  \n",
       "1      0          PC 17599  71.2833   C85        C  \n",
       "2      0  STON/O2. 3101282   7.9250   NaN        S  \n",
       "3      0            113803  53.1000  C123        S  \n",
       "4      0            373450   8.0500   NaN        S  "
      ]
     },
     "execution_count": 2,
     "metadata": {},
     "output_type": "execute_result"
    }
   ],
   "source": [
    "# Loading the dataset\n",
    "Titanic_train_df=pd.read_csv('Titanic_train.csv')\n",
    "Titanic_train_df.head()"
   ]
  },
  {
   "cell_type": "code",
   "execution_count": 3,
   "id": "81287942",
   "metadata": {},
   "outputs": [
    {
     "data": {
      "text/plain": [
       "(891, 12)"
      ]
     },
     "execution_count": 3,
     "metadata": {},
     "output_type": "execute_result"
    }
   ],
   "source": [
    "Titanic_train_df.shape"
   ]
  },
  {
   "cell_type": "code",
   "execution_count": 4,
   "id": "0c0f2814",
   "metadata": {},
   "outputs": [
    {
     "data": {
      "text/html": [
       "<div>\n",
       "<style scoped>\n",
       "    .dataframe tbody tr th:only-of-type {\n",
       "        vertical-align: middle;\n",
       "    }\n",
       "\n",
       "    .dataframe tbody tr th {\n",
       "        vertical-align: top;\n",
       "    }\n",
       "\n",
       "    .dataframe thead th {\n",
       "        text-align: right;\n",
       "    }\n",
       "</style>\n",
       "<table border=\"1\" class=\"dataframe\">\n",
       "  <thead>\n",
       "    <tr style=\"text-align: right;\">\n",
       "      <th></th>\n",
       "      <th>PassengerId</th>\n",
       "      <th>Pclass</th>\n",
       "      <th>Name</th>\n",
       "      <th>Sex</th>\n",
       "      <th>Age</th>\n",
       "      <th>SibSp</th>\n",
       "      <th>Parch</th>\n",
       "      <th>Ticket</th>\n",
       "      <th>Fare</th>\n",
       "      <th>Cabin</th>\n",
       "      <th>Embarked</th>\n",
       "    </tr>\n",
       "  </thead>\n",
       "  <tbody>\n",
       "    <tr>\n",
       "      <th>0</th>\n",
       "      <td>892</td>\n",
       "      <td>3</td>\n",
       "      <td>Kelly, Mr. James</td>\n",
       "      <td>male</td>\n",
       "      <td>34.5</td>\n",
       "      <td>0</td>\n",
       "      <td>0</td>\n",
       "      <td>330911</td>\n",
       "      <td>7.8292</td>\n",
       "      <td>NaN</td>\n",
       "      <td>Q</td>\n",
       "    </tr>\n",
       "    <tr>\n",
       "      <th>1</th>\n",
       "      <td>893</td>\n",
       "      <td>3</td>\n",
       "      <td>Wilkes, Mrs. James (Ellen Needs)</td>\n",
       "      <td>female</td>\n",
       "      <td>47.0</td>\n",
       "      <td>1</td>\n",
       "      <td>0</td>\n",
       "      <td>363272</td>\n",
       "      <td>7.0000</td>\n",
       "      <td>NaN</td>\n",
       "      <td>S</td>\n",
       "    </tr>\n",
       "    <tr>\n",
       "      <th>2</th>\n",
       "      <td>894</td>\n",
       "      <td>2</td>\n",
       "      <td>Myles, Mr. Thomas Francis</td>\n",
       "      <td>male</td>\n",
       "      <td>62.0</td>\n",
       "      <td>0</td>\n",
       "      <td>0</td>\n",
       "      <td>240276</td>\n",
       "      <td>9.6875</td>\n",
       "      <td>NaN</td>\n",
       "      <td>Q</td>\n",
       "    </tr>\n",
       "    <tr>\n",
       "      <th>3</th>\n",
       "      <td>895</td>\n",
       "      <td>3</td>\n",
       "      <td>Wirz, Mr. Albert</td>\n",
       "      <td>male</td>\n",
       "      <td>27.0</td>\n",
       "      <td>0</td>\n",
       "      <td>0</td>\n",
       "      <td>315154</td>\n",
       "      <td>8.6625</td>\n",
       "      <td>NaN</td>\n",
       "      <td>S</td>\n",
       "    </tr>\n",
       "    <tr>\n",
       "      <th>4</th>\n",
       "      <td>896</td>\n",
       "      <td>3</td>\n",
       "      <td>Hirvonen, Mrs. Alexander (Helga E Lindqvist)</td>\n",
       "      <td>female</td>\n",
       "      <td>22.0</td>\n",
       "      <td>1</td>\n",
       "      <td>1</td>\n",
       "      <td>3101298</td>\n",
       "      <td>12.2875</td>\n",
       "      <td>NaN</td>\n",
       "      <td>S</td>\n",
       "    </tr>\n",
       "  </tbody>\n",
       "</table>\n",
       "</div>"
      ],
      "text/plain": [
       "   PassengerId  Pclass                                          Name     Sex  \\\n",
       "0          892       3                              Kelly, Mr. James    male   \n",
       "1          893       3              Wilkes, Mrs. James (Ellen Needs)  female   \n",
       "2          894       2                     Myles, Mr. Thomas Francis    male   \n",
       "3          895       3                              Wirz, Mr. Albert    male   \n",
       "4          896       3  Hirvonen, Mrs. Alexander (Helga E Lindqvist)  female   \n",
       "\n",
       "    Age  SibSp  Parch   Ticket     Fare Cabin Embarked  \n",
       "0  34.5      0      0   330911   7.8292   NaN        Q  \n",
       "1  47.0      1      0   363272   7.0000   NaN        S  \n",
       "2  62.0      0      0   240276   9.6875   NaN        Q  \n",
       "3  27.0      0      0   315154   8.6625   NaN        S  \n",
       "4  22.0      1      1  3101298  12.2875   NaN        S  "
      ]
     },
     "execution_count": 4,
     "metadata": {},
     "output_type": "execute_result"
    }
   ],
   "source": [
    "Titanic_test_df=pd.read_csv('Titanic_test.csv')\n",
    "Titanic_test_df.head()"
   ]
  },
  {
   "cell_type": "code",
   "execution_count": 5,
   "id": "2e7dc1a6",
   "metadata": {},
   "outputs": [
    {
     "data": {
      "text/plain": [
       "(418, 11)"
      ]
     },
     "execution_count": 5,
     "metadata": {},
     "output_type": "execute_result"
    }
   ],
   "source": [
    "Titanic_test_df.shape"
   ]
  },
  {
   "cell_type": "code",
   "execution_count": 6,
   "id": "58e83e82",
   "metadata": {},
   "outputs": [
    {
     "name": "stdout",
     "output_type": "stream",
     "text": [
      "<class 'pandas.core.frame.DataFrame'>\n",
      "RangeIndex: 891 entries, 0 to 890\n",
      "Data columns (total 12 columns):\n",
      " #   Column       Non-Null Count  Dtype  \n",
      "---  ------       --------------  -----  \n",
      " 0   PassengerId  891 non-null    int64  \n",
      " 1   Survived     891 non-null    int64  \n",
      " 2   Pclass       891 non-null    int64  \n",
      " 3   Name         891 non-null    object \n",
      " 4   Sex          891 non-null    object \n",
      " 5   Age          714 non-null    float64\n",
      " 6   SibSp        891 non-null    int64  \n",
      " 7   Parch        891 non-null    int64  \n",
      " 8   Ticket       891 non-null    object \n",
      " 9   Fare         891 non-null    float64\n",
      " 10  Cabin        204 non-null    object \n",
      " 11  Embarked     889 non-null    object \n",
      "dtypes: float64(2), int64(5), object(5)\n",
      "memory usage: 83.7+ KB\n"
     ]
    }
   ],
   "source": [
    "Titanic_train_df.info()"
   ]
  },
  {
   "cell_type": "code",
   "execution_count": 7,
   "id": "c8a466ad",
   "metadata": {},
   "outputs": [
    {
     "data": {
      "image/png": "[encoded data removed]",
      "text/plain": [
       "<Figure size 864x576 with 1 Axes>"
      ]
     },
     "metadata": {
      "needs_background": "light"
     },
     "output_type": "display_data"
    }
   ],
   "source": [
    "# Boxplot of all features\n",
    "plt.figure(figsize=(12,8))\n",
    "Titanic_train_df.boxplot()\n",
    "plt.title('Boxplot of all features',fontweight='bold',fontsize=14)\n",
    "plt.show()"
   ]
  },
  {
   "cell_type": "code",
   "execution_count": 8,
   "id": "15f75492",
   "metadata": {},
   "outputs": [
    {
     "data": {
      "text/plain": [
       "<AxesSubplot:xlabel='Age', ylabel='Density'>"
      ]
     },
     "execution_count": 8,
     "metadata": {},
     "output_type": "execute_result"
    },
    {
     "data": {
      "image/png": "[encoded data removed]",
      "text/plain": [
       "<Figure size 1080x576 with 8 Axes>"
      ]
     },
     "metadata": {
      "needs_background": "light"
     },
     "output_type": "display_data"
    }
   ],
   "source": [
    "fig,axe = plt.subplots(2,4, figsize=(15,8))\n",
    "plt.suptitle('HEART DATASET\\n')\n",
    "plt.tight_layout()\n",
    "sns.countplot(data =Titanic_train_df, x='Survived',ax=axe[0,0])\n",
    "sns.kdeplot(data = Titanic_train_df,x='Age',hue='Survived',ax=axe[0,1]).set_xticks(np.arange(20, 90, 10))\n",
    "sns.countplot(data=Titanic_train_df,x='Pclass',hue='Survived',ax=axe[0,2])\n",
    "sns.countplot(data=Titanic_train_df,x='Sex',hue='Survived',ax=axe[0,3])\n",
    "sns.countplot(data=Titanic_train_df,x='SibSp',hue='Survived',ax=axe[1,0])\n",
    "sns.countplot(data=Titanic_train_df,x='Parch',hue='Survived',ax=axe[1,1])\n",
    "sns.countplot(data=Titanic_train_df,x='Embarked',hue='Survived',ax=axe[1,2])\n",
    "sns.kdeplot(data=Titanic_train_df,x='Age',hue='Sex',ax=axe[1,3])"
   ]
  },
  {
   "cell_type": "code",
   "execution_count": 9,
   "id": "c5c3b948",
   "metadata": {},
   "outputs": [
    {
     "data": {
      "image/png": "[encoded data removed]",
      "text/plain": [
       "<Figure size 375.875x216 with 1 Axes>"
      ]
     },
     "metadata": {
      "needs_background": "light"
     },
     "output_type": "display_data"
    }
   ],
   "source": [
    "# Scatter plot of Age Vs SibSp\n",
    "pal= sns.set_palette('flare')\n",
    "sns.relplot(data=Titanic_train_df, x='Age',y='SibSp', \n",
    "            kind='scatter',\n",
    "            hue='Survived',\n",
    "            palette=pal,\n",
    "            height=3,\n",
    "            aspect=1.5\n",
    "           )\n",
    "plt.show()"
   ]
  },
  {
   "cell_type": "code",
   "execution_count": 10,
   "id": "54358c2a",
   "metadata": {},
   "outputs": [
    {
     "data": {
      "image/png": "[encoded data removed]",
      "text/plain": [
       "<Figure size 375.875x216 with 1 Axes>"
      ]
     },
     "metadata": {
      "needs_background": "light"
     },
     "output_type": "display_data"
    }
   ],
   "source": [
    "# Scatter plot of Age Vs Parch\n",
    "pal= sns.set_palette('pastel')\n",
    "sns.relplot(data=Titanic_train_df, x='Age',y='Parch', \n",
    "            kind='scatter',\n",
    "            hue='Survived',\n",
    "            palette=pal,\n",
    "            height=3,\n",
    "            aspect=1.5\n",
    "           )\n",
    "plt.show()"
   ]
  },
  {
   "cell_type": "code",
   "execution_count": 11,
   "id": "8ac329b8",
   "metadata": {},
   "outputs": [
    {
     "data": {
      "image/png": "[encoded data removed]",
      "text/plain": [
       "<Figure size 375.875x216 with 1 Axes>"
      ]
     },
     "metadata": {
      "needs_background": "light"
     },
     "output_type": "display_data"
    }
   ],
   "source": [
    "# Scatter plot of Age Vs Fare\n",
    "pal= sns.set_palette('Spectral')\n",
    "sns.relplot(data=Titanic_train_df, x='Age',y='Fare', \n",
    "            kind='scatter',\n",
    "            hue='Survived',\n",
    "            palette=pal,\n",
    "            height=3,\n",
    "            aspect=1.5\n",
    "           )\n",
    "plt.show()"
   ]
  },
  {
   "cell_type": "code",
   "execution_count": 12,
   "id": "4230f039",
   "metadata": {},
   "outputs": [
    {
     "data": {
      "image/png": "[encoded data removed]",
      "text/plain": [
       "<Figure size 324x216 with 1 Axes>"
      ]
     },
     "metadata": {
      "needs_background": "light"
     },
     "output_type": "display_data"
    }
   ],
   "source": [
    "# Count plot of Sex Vs Survived\n",
    "sns.catplot(data=Titanic_train_df,x='Sex',y='Survived', \n",
    "            kind='bar',\n",
    "           height=3,\n",
    "           aspect=1.5,\n",
    "           )\n",
    "plt.show()"
   ]
  },
  {
   "cell_type": "code",
   "execution_count": 13,
   "id": "f8d47933",
   "metadata": {},
   "outputs": [
    {
     "data": {
      "image/png": "[encoded data removed]",
      "text/plain": [
       "<Figure size 324x216 with 1 Axes>"
      ]
     },
     "metadata": {
      "needs_background": "light"
     },
     "output_type": "display_data"
    }
   ],
   "source": [
    "# Count plot of Pclass Vs Survived\n",
    "sns.catplot(data=Titanic_train_df,x='Pclass',y='Survived', \n",
    "            kind='bar',\n",
    "           height=3,\n",
    "           aspect=1.5,\n",
    "           )\n",
    "plt.show()"
   ]
  },
  {
   "cell_type": "code",
   "execution_count": 14,
   "id": "bf9951fc",
   "metadata": {},
   "outputs": [
    {
     "data": {
      "image/png": "[encoded data removed]",
      "text/plain": [
       "<Figure size 324x216 with 1 Axes>"
      ]
     },
     "metadata": {
      "needs_background": "light"
     },
     "output_type": "display_data"
    }
   ],
   "source": [
    "# Count plot of Embarked Vs Survived\n",
    "sns.catplot(data=Titanic_train_df,x='Embarked',y='Survived', \n",
    "            kind='bar',\n",
    "           height=3,\n",
    "           aspect=1.5,\n",
    "           )\n",
    "plt.show()"
   ]
  },
  {
   "cell_type": "code",
   "execution_count": 15,
   "id": "4bf2b4e1",
   "metadata": {},
   "outputs": [
    {
     "data": {
      "text/plain": [
       "PassengerId      0\n",
       "Survived         0\n",
       "Pclass           0\n",
       "Name             0\n",
       "Sex              0\n",
       "Age            177\n",
       "SibSp            0\n",
       "Parch            0\n",
       "Ticket           0\n",
       "Fare             0\n",
       "Cabin          687\n",
       "Embarked         2\n",
       "dtype: int64"
      ]
     },
     "execution_count": 15,
     "metadata": {},
     "output_type": "execute_result"
    }
   ],
   "source": [
    "#checking Missing Values\n",
    "Titanic_train_df.isnull().sum()"
   ]
  },
  {
   "cell_type": "code",
   "execution_count": 16,
   "id": "d8a3da76",
   "metadata": {},
   "outputs": [],
   "source": [
    "Titanic_train_df1=Titanic_train_df.copy()"
   ]
  },
  {
   "cell_type": "code",
   "execution_count": 17,
   "id": "66d321a3",
   "metadata": {},
   "outputs": [],
   "source": [
    "Titanic_train_df1.drop(['Cabin'],axis=1,inplace=True)"
   ]
  },
  {
   "cell_type": "code",
   "execution_count": 18,
   "id": "35b692e4",
   "metadata": {},
   "outputs": [],
   "source": [
    "Titanic_train_df1.fillna({'Age':Titanic_train_df['Age'].mean(),\n",
    "                        'Embarked':Titanic_train_df['Embarked'].mode()[0]},inplace=True)"
   ]
  },
  {
   "cell_type": "code",
   "execution_count": 19,
   "id": "346b0090",
   "metadata": {},
   "outputs": [
    {
     "data": {
      "text/plain": [
       "PassengerId    0\n",
       "Survived       0\n",
       "Pclass         0\n",
       "Name           0\n",
       "Sex            0\n",
       "Age            0\n",
       "SibSp          0\n",
       "Parch          0\n",
       "Ticket         0\n",
       "Fare           0\n",
       "Embarked       0\n",
       "dtype: int64"
      ]
     },
     "execution_count": 19,
     "metadata": {},
     "output_type": "execute_result"
    }
   ],
   "source": [
    "Titanic_train_df1.isnull().sum()"
   ]
  },
  {
   "cell_type": "code",
   "execution_count": 20,
   "id": "e9d325cc",
   "metadata": {},
   "outputs": [],
   "source": [
    "Titanic_train_df1.drop(columns=['PassengerId','Name','Ticket'],inplace=True)"
   ]
  },
  {
   "cell_type": "code",
   "execution_count": 21,
   "id": "78b62e30",
   "metadata": {},
   "outputs": [
    {
     "data": {
      "text/html": [
       "<div>\n",
       "<style scoped>\n",
       "    .dataframe tbody tr th:only-of-type {\n",
       "        vertical-align: middle;\n",
       "    }\n",
       "\n",
       "    .dataframe tbody tr th {\n",
       "        vertical-align: top;\n",
       "    }\n",
       "\n",
       "    .dataframe thead th {\n",
       "        text-align: right;\n",
       "    }\n",
       "</style>\n",
       "<table border=\"1\" class=\"dataframe\">\n",
       "  <thead>\n",
       "    <tr style=\"text-align: right;\">\n",
       "      <th></th>\n",
       "      <th>Survived</th>\n",
       "      <th>Pclass</th>\n",
       "      <th>Sex</th>\n",
       "      <th>Age</th>\n",
       "      <th>SibSp</th>\n",
       "      <th>Parch</th>\n",
       "      <th>Fare</th>\n",
       "      <th>Embarked</th>\n",
       "    </tr>\n",
       "  </thead>\n",
       "  <tbody>\n",
       "    <tr>\n",
       "      <th>0</th>\n",
       "      <td>0</td>\n",
       "      <td>3</td>\n",
       "      <td>male</td>\n",
       "      <td>22.0</td>\n",
       "      <td>1</td>\n",
       "      <td>0</td>\n",
       "      <td>7.2500</td>\n",
       "      <td>S</td>\n",
       "    </tr>\n",
       "    <tr>\n",
       "      <th>1</th>\n",
       "      <td>1</td>\n",
       "      <td>1</td>\n",
       "      <td>female</td>\n",
       "      <td>38.0</td>\n",
       "      <td>1</td>\n",
       "      <td>0</td>\n",
       "      <td>71.2833</td>\n",
       "      <td>C</td>\n",
       "    </tr>\n",
       "  </tbody>\n",
       "</table>\n",
       "</div>"
      ],
      "text/plain": [
       "   Survived  Pclass     Sex   Age  SibSp  Parch     Fare Embarked\n",
       "0         0       3    male  22.0      1      0   7.2500        S\n",
       "1         1       1  female  38.0      1      0  71.2833        C"
      ]
     },
     "execution_count": 21,
     "metadata": {},
     "output_type": "execute_result"
    }
   ],
   "source": [
    "Titanic_train_df1.head(2)"
   ]
  },
  {
   "cell_type": "code",
   "execution_count": 22,
   "id": "b90c7a81",
   "metadata": {},
   "outputs": [],
   "source": [
    "# Converting categorical variables to a dummy indicators\n",
    "final_train= pd.get_dummies(Titanic_train_df1, columns=['Sex'])\n",
    "final_train= pd.get_dummies(final_train, columns=[\"Embarked\"])"
   ]
  },
  {
   "cell_type": "code",
   "execution_count": 23,
   "id": "03e35188",
   "metadata": {},
   "outputs": [
    {
     "data": {
      "text/html": [
       "<div>\n",
       "<style scoped>\n",
       "    .dataframe tbody tr th:only-of-type {\n",
       "        vertical-align: middle;\n",
       "    }\n",
       "\n",
       "    .dataframe tbody tr th {\n",
       "        vertical-align: top;\n",
       "    }\n",
       "\n",
       "    .dataframe thead th {\n",
       "        text-align: right;\n",
       "    }\n",
       "</style>\n",
       "<table border=\"1\" class=\"dataframe\">\n",
       "  <thead>\n",
       "    <tr style=\"text-align: right;\">\n",
       "      <th></th>\n",
       "      <th>Survived</th>\n",
       "      <th>Pclass</th>\n",
       "      <th>Age</th>\n",
       "      <th>SibSp</th>\n",
       "      <th>Parch</th>\n",
       "      <th>Fare</th>\n",
       "      <th>Sex_female</th>\n",
       "      <th>Sex_male</th>\n",
       "      <th>Embarked_C</th>\n",
       "      <th>Embarked_Q</th>\n",
       "      <th>Embarked_S</th>\n",
       "    </tr>\n",
       "  </thead>\n",
       "  <tbody>\n",
       "    <tr>\n",
       "      <th>0</th>\n",
       "      <td>0</td>\n",
       "      <td>3</td>\n",
       "      <td>22.0</td>\n",
       "      <td>1</td>\n",
       "      <td>0</td>\n",
       "      <td>7.2500</td>\n",
       "      <td>0</td>\n",
       "      <td>1</td>\n",
       "      <td>0</td>\n",
       "      <td>0</td>\n",
       "      <td>1</td>\n",
       "    </tr>\n",
       "    <tr>\n",
       "      <th>1</th>\n",
       "      <td>1</td>\n",
       "      <td>1</td>\n",
       "      <td>38.0</td>\n",
       "      <td>1</td>\n",
       "      <td>0</td>\n",
       "      <td>71.2833</td>\n",
       "      <td>1</td>\n",
       "      <td>0</td>\n",
       "      <td>1</td>\n",
       "      <td>0</td>\n",
       "      <td>0</td>\n",
       "    </tr>\n",
       "  </tbody>\n",
       "</table>\n",
       "</div>"
      ],
      "text/plain": [
       "   Survived  Pclass   Age  SibSp  Parch     Fare  Sex_female  Sex_male  \\\n",
       "0         0       3  22.0      1      0   7.2500           0         1   \n",
       "1         1       1  38.0      1      0  71.2833           1         0   \n",
       "\n",
       "   Embarked_C  Embarked_Q  Embarked_S  \n",
       "0           0           0           1  \n",
       "1           1           0           0  "
      ]
     },
     "execution_count": 23,
     "metadata": {},
     "output_type": "execute_result"
    }
   ],
   "source": [
    "final_train.head(2)"
   ]
  },
  {
   "cell_type": "code",
   "execution_count": 24,
   "id": "72f067e2",
   "metadata": {},
   "outputs": [
    {
     "data": {
      "text/plain": [
       "(891, 11)"
      ]
     },
     "execution_count": 24,
     "metadata": {},
     "output_type": "execute_result"
    }
   ],
   "source": [
    "final_train.shape"
   ]
  },
  {
   "cell_type": "markdown",
   "id": "47829718",
   "metadata": {},
   "source": [
    "# Loading Test dataset"
   ]
  },
  {
   "cell_type": "code",
   "execution_count": 25,
   "id": "994a5f82",
   "metadata": {},
   "outputs": [
    {
     "data": {
      "text/html": [
       "<div>\n",
       "<style scoped>\n",
       "    .dataframe tbody tr th:only-of-type {\n",
       "        vertical-align: middle;\n",
       "    }\n",
       "\n",
       "    .dataframe tbody tr th {\n",
       "        vertical-align: top;\n",
       "    }\n",
       "\n",
       "    .dataframe thead th {\n",
       "        text-align: right;\n",
       "    }\n",
       "</style>\n",
       "<table border=\"1\" class=\"dataframe\">\n",
       "  <thead>\n",
       "    <tr style=\"text-align: right;\">\n",
       "      <th></th>\n",
       "      <th>PassengerId</th>\n",
       "      <th>Pclass</th>\n",
       "      <th>Name</th>\n",
       "      <th>Sex</th>\n",
       "      <th>Age</th>\n",
       "      <th>SibSp</th>\n",
       "      <th>Parch</th>\n",
       "      <th>Ticket</th>\n",
       "      <th>Fare</th>\n",
       "      <th>Cabin</th>\n",
       "      <th>Embarked</th>\n",
       "    </tr>\n",
       "  </thead>\n",
       "  <tbody>\n",
       "    <tr>\n",
       "      <th>0</th>\n",
       "      <td>892</td>\n",
       "      <td>3</td>\n",
       "      <td>Kelly, Mr. James</td>\n",
       "      <td>male</td>\n",
       "      <td>34.5</td>\n",
       "      <td>0</td>\n",
       "      <td>0</td>\n",
       "      <td>330911</td>\n",
       "      <td>7.8292</td>\n",
       "      <td>NaN</td>\n",
       "      <td>Q</td>\n",
       "    </tr>\n",
       "    <tr>\n",
       "      <th>1</th>\n",
       "      <td>893</td>\n",
       "      <td>3</td>\n",
       "      <td>Wilkes, Mrs. James (Ellen Needs)</td>\n",
       "      <td>female</td>\n",
       "      <td>47.0</td>\n",
       "      <td>1</td>\n",
       "      <td>0</td>\n",
       "      <td>363272</td>\n",
       "      <td>7.0000</td>\n",
       "      <td>NaN</td>\n",
       "      <td>S</td>\n",
       "    </tr>\n",
       "    <tr>\n",
       "      <th>2</th>\n",
       "      <td>894</td>\n",
       "      <td>2</td>\n",
       "      <td>Myles, Mr. Thomas Francis</td>\n",
       "      <td>male</td>\n",
       "      <td>62.0</td>\n",
       "      <td>0</td>\n",
       "      <td>0</td>\n",
       "      <td>240276</td>\n",
       "      <td>9.6875</td>\n",
       "      <td>NaN</td>\n",
       "      <td>Q</td>\n",
       "    </tr>\n",
       "    <tr>\n",
       "      <th>3</th>\n",
       "      <td>895</td>\n",
       "      <td>3</td>\n",
       "      <td>Wirz, Mr. Albert</td>\n",
       "      <td>male</td>\n",
       "      <td>27.0</td>\n",
       "      <td>0</td>\n",
       "      <td>0</td>\n",
       "      <td>315154</td>\n",
       "      <td>8.6625</td>\n",
       "      <td>NaN</td>\n",
       "      <td>S</td>\n",
       "    </tr>\n",
       "    <tr>\n",
       "      <th>4</th>\n",
       "      <td>896</td>\n",
       "      <td>3</td>\n",
       "      <td>Hirvonen, Mrs. Alexander (Helga E Lindqvist)</td>\n",
       "      <td>female</td>\n",
       "      <td>22.0</td>\n",
       "      <td>1</td>\n",
       "      <td>1</td>\n",
       "      <td>3101298</td>\n",
       "      <td>12.2875</td>\n",
       "      <td>NaN</td>\n",
       "      <td>S</td>\n",
       "    </tr>\n",
       "  </tbody>\n",
       "</table>\n",
       "</div>"
      ],
      "text/plain": [
       "   PassengerId  Pclass                                          Name     Sex  \\\n",
       "0          892       3                              Kelly, Mr. James    male   \n",
       "1          893       3              Wilkes, Mrs. James (Ellen Needs)  female   \n",
       "2          894       2                     Myles, Mr. Thomas Francis    male   \n",
       "3          895       3                              Wirz, Mr. Albert    male   \n",
       "4          896       3  Hirvonen, Mrs. Alexander (Helga E Lindqvist)  female   \n",
       "\n",
       "    Age  SibSp  Parch   Ticket     Fare Cabin Embarked  \n",
       "0  34.5      0      0   330911   7.8292   NaN        Q  \n",
       "1  47.0      1      0   363272   7.0000   NaN        S  \n",
       "2  62.0      0      0   240276   9.6875   NaN        Q  \n",
       "3  27.0      0      0   315154   8.6625   NaN        S  \n",
       "4  22.0      1      1  3101298  12.2875   NaN        S  "
      ]
     },
     "execution_count": 25,
     "metadata": {},
     "output_type": "execute_result"
    }
   ],
   "source": [
    "Titanic_test_df.head()"
   ]
  },
  {
   "cell_type": "code",
   "execution_count": 26,
   "id": "6c77eb10",
   "metadata": {},
   "outputs": [],
   "source": [
    "Titanic_test_df1=Titanic_test_df.copy()"
   ]
  },
  {
   "cell_type": "code",
   "execution_count": 27,
   "id": "4d80781d",
   "metadata": {},
   "outputs": [],
   "source": [
    "Titanic_test_df1.fillna({'Age':Titanic_test_df['Age'].mean()},inplace=True)"
   ]
  },
  {
   "cell_type": "code",
   "execution_count": 28,
   "id": "515bfa4c",
   "metadata": {},
   "outputs": [],
   "source": [
    "Titanic_test_df1.fillna(0, inplace=True)"
   ]
  },
  {
   "cell_type": "code",
   "execution_count": 29,
   "id": "ce77b36e",
   "metadata": {},
   "outputs": [
    {
     "data": {
      "text/plain": [
       "PassengerId    0\n",
       "Pclass         0\n",
       "Name           0\n",
       "Sex            0\n",
       "Age            0\n",
       "SibSp          0\n",
       "Parch          0\n",
       "Ticket         0\n",
       "Fare           0\n",
       "Cabin          0\n",
       "Embarked       0\n",
       "dtype: int64"
      ]
     },
     "execution_count": 29,
     "metadata": {},
     "output_type": "execute_result"
    }
   ],
   "source": [
    "#checking Missing Values\n",
    "Titanic_test_df1.isnull().sum()"
   ]
  },
  {
   "cell_type": "code",
   "execution_count": 30,
   "id": "ebae4959",
   "metadata": {},
   "outputs": [],
   "source": [
    "Titanic_test_df1.drop(columns=['PassengerId','Name','Ticket','Cabin'],inplace=True)"
   ]
  },
  {
   "cell_type": "code",
   "execution_count": 31,
   "id": "6c22d561",
   "metadata": {},
   "outputs": [
    {
     "data": {
      "text/html": [
       "<div>\n",
       "<style scoped>\n",
       "    .dataframe tbody tr th:only-of-type {\n",
       "        vertical-align: middle;\n",
       "    }\n",
       "\n",
       "    .dataframe tbody tr th {\n",
       "        vertical-align: top;\n",
       "    }\n",
       "\n",
       "    .dataframe thead th {\n",
       "        text-align: right;\n",
       "    }\n",
       "</style>\n",
       "<table border=\"1\" class=\"dataframe\">\n",
       "  <thead>\n",
       "    <tr style=\"text-align: right;\">\n",
       "      <th></th>\n",
       "      <th>Pclass</th>\n",
       "      <th>Sex</th>\n",
       "      <th>Age</th>\n",
       "      <th>SibSp</th>\n",
       "      <th>Parch</th>\n",
       "      <th>Fare</th>\n",
       "      <th>Embarked</th>\n",
       "    </tr>\n",
       "  </thead>\n",
       "  <tbody>\n",
       "    <tr>\n",
       "      <th>0</th>\n",
       "      <td>3</td>\n",
       "      <td>male</td>\n",
       "      <td>34.5</td>\n",
       "      <td>0</td>\n",
       "      <td>0</td>\n",
       "      <td>7.8292</td>\n",
       "      <td>Q</td>\n",
       "    </tr>\n",
       "    <tr>\n",
       "      <th>1</th>\n",
       "      <td>3</td>\n",
       "      <td>female</td>\n",
       "      <td>47.0</td>\n",
       "      <td>1</td>\n",
       "      <td>0</td>\n",
       "      <td>7.0000</td>\n",
       "      <td>S</td>\n",
       "    </tr>\n",
       "  </tbody>\n",
       "</table>\n",
       "</div>"
      ],
      "text/plain": [
       "   Pclass     Sex   Age  SibSp  Parch    Fare Embarked\n",
       "0       3    male  34.5      0      0  7.8292        Q\n",
       "1       3  female  47.0      1      0  7.0000        S"
      ]
     },
     "execution_count": 31,
     "metadata": {},
     "output_type": "execute_result"
    }
   ],
   "source": [
    "Titanic_test_df1.head(2)"
   ]
  },
  {
   "cell_type": "code",
   "execution_count": 32,
   "id": "abafc2d1",
   "metadata": {},
   "outputs": [],
   "source": [
    "# Converting categorical variables to a dummy indicators\n",
    "final_test= pd.get_dummies(Titanic_test_df1, columns=['Sex'])\n",
    "final_test = pd.get_dummies(final_test, columns=[\"Embarked\"])"
   ]
  },
  {
   "cell_type": "code",
   "execution_count": 33,
   "id": "4d93cbc4",
   "metadata": {},
   "outputs": [
    {
     "data": {
      "text/html": [
       "<div>\n",
       "<style scoped>\n",
       "    .dataframe tbody tr th:only-of-type {\n",
       "        vertical-align: middle;\n",
       "    }\n",
       "\n",
       "    .dataframe tbody tr th {\n",
       "        vertical-align: top;\n",
       "    }\n",
       "\n",
       "    .dataframe thead th {\n",
       "        text-align: right;\n",
       "    }\n",
       "</style>\n",
       "<table border=\"1\" class=\"dataframe\">\n",
       "  <thead>\n",
       "    <tr style=\"text-align: right;\">\n",
       "      <th></th>\n",
       "      <th>Pclass</th>\n",
       "      <th>Age</th>\n",
       "      <th>SibSp</th>\n",
       "      <th>Parch</th>\n",
       "      <th>Fare</th>\n",
       "      <th>Sex_female</th>\n",
       "      <th>Sex_male</th>\n",
       "      <th>Embarked_C</th>\n",
       "      <th>Embarked_Q</th>\n",
       "      <th>Embarked_S</th>\n",
       "    </tr>\n",
       "  </thead>\n",
       "  <tbody>\n",
       "    <tr>\n",
       "      <th>0</th>\n",
       "      <td>3</td>\n",
       "      <td>34.5</td>\n",
       "      <td>0</td>\n",
       "      <td>0</td>\n",
       "      <td>7.8292</td>\n",
       "      <td>0</td>\n",
       "      <td>1</td>\n",
       "      <td>0</td>\n",
       "      <td>1</td>\n",
       "      <td>0</td>\n",
       "    </tr>\n",
       "    <tr>\n",
       "      <th>1</th>\n",
       "      <td>3</td>\n",
       "      <td>47.0</td>\n",
       "      <td>1</td>\n",
       "      <td>0</td>\n",
       "      <td>7.0000</td>\n",
       "      <td>1</td>\n",
       "      <td>0</td>\n",
       "      <td>0</td>\n",
       "      <td>0</td>\n",
       "      <td>1</td>\n",
       "    </tr>\n",
       "  </tbody>\n",
       "</table>\n",
       "</div>"
      ],
      "text/plain": [
       "   Pclass   Age  SibSp  Parch    Fare  Sex_female  Sex_male  Embarked_C  \\\n",
       "0       3  34.5      0      0  7.8292           0         1           0   \n",
       "1       3  47.0      1      0  7.0000           1         0           0   \n",
       "\n",
       "   Embarked_Q  Embarked_S  \n",
       "0           1           0  \n",
       "1           0           1  "
      ]
     },
     "execution_count": 33,
     "metadata": {},
     "output_type": "execute_result"
    }
   ],
   "source": [
    "final_test.head(2)"
   ]
  },
  {
   "cell_type": "code",
   "execution_count": 34,
   "id": "de7b7f1b",
   "metadata": {},
   "outputs": [],
   "source": [
    "from sklearn.model_selection import train_test_split, cross_val_score\n",
    "from sklearn.metrics import accuracy_score,roc_curve, auc"
   ]
  },
  {
   "cell_type": "code",
   "execution_count": 35,
   "id": "bb158587",
   "metadata": {},
   "outputs": [],
   "source": [
    "X = final_train.drop('Survived',axis=1)\n",
    "y = final_train['Survived']"
   ]
  },
  {
   "cell_type": "code",
   "execution_count": 36,
   "id": "d94f954c",
   "metadata": {},
   "outputs": [
    {
     "data": {
      "text/html": [
       "<div>\n",
       "<style scoped>\n",
       "    .dataframe tbody tr th:only-of-type {\n",
       "        vertical-align: middle;\n",
       "    }\n",
       "\n",
       "    .dataframe tbody tr th {\n",
       "        vertical-align: top;\n",
       "    }\n",
       "\n",
       "    .dataframe thead th {\n",
       "        text-align: right;\n",
       "    }\n",
       "</style>\n",
       "<table border=\"1\" class=\"dataframe\">\n",
       "  <thead>\n",
       "    <tr style=\"text-align: right;\">\n",
       "      <th></th>\n",
       "      <th>Pclass</th>\n",
       "      <th>Age</th>\n",
       "      <th>SibSp</th>\n",
       "      <th>Parch</th>\n",
       "      <th>Fare</th>\n",
       "      <th>Sex_female</th>\n",
       "      <th>Sex_male</th>\n",
       "      <th>Embarked_C</th>\n",
       "      <th>Embarked_Q</th>\n",
       "      <th>Embarked_S</th>\n",
       "    </tr>\n",
       "  </thead>\n",
       "  <tbody>\n",
       "    <tr>\n",
       "      <th>0</th>\n",
       "      <td>3</td>\n",
       "      <td>22.0</td>\n",
       "      <td>1</td>\n",
       "      <td>0</td>\n",
       "      <td>7.2500</td>\n",
       "      <td>0</td>\n",
       "      <td>1</td>\n",
       "      <td>0</td>\n",
       "      <td>0</td>\n",
       "      <td>1</td>\n",
       "    </tr>\n",
       "    <tr>\n",
       "      <th>1</th>\n",
       "      <td>1</td>\n",
       "      <td>38.0</td>\n",
       "      <td>1</td>\n",
       "      <td>0</td>\n",
       "      <td>71.2833</td>\n",
       "      <td>1</td>\n",
       "      <td>0</td>\n",
       "      <td>1</td>\n",
       "      <td>0</td>\n",
       "      <td>0</td>\n",
       "    </tr>\n",
       "    <tr>\n",
       "      <th>2</th>\n",
       "      <td>3</td>\n",
       "      <td>26.0</td>\n",
       "      <td>0</td>\n",
       "      <td>0</td>\n",
       "      <td>7.9250</td>\n",
       "      <td>1</td>\n",
       "      <td>0</td>\n",
       "      <td>0</td>\n",
       "      <td>0</td>\n",
       "      <td>1</td>\n",
       "    </tr>\n",
       "    <tr>\n",
       "      <th>3</th>\n",
       "      <td>1</td>\n",
       "      <td>35.0</td>\n",
       "      <td>1</td>\n",
       "      <td>0</td>\n",
       "      <td>53.1000</td>\n",
       "      <td>1</td>\n",
       "      <td>0</td>\n",
       "      <td>0</td>\n",
       "      <td>0</td>\n",
       "      <td>1</td>\n",
       "    </tr>\n",
       "    <tr>\n",
       "      <th>4</th>\n",
       "      <td>3</td>\n",
       "      <td>35.0</td>\n",
       "      <td>0</td>\n",
       "      <td>0</td>\n",
       "      <td>8.0500</td>\n",
       "      <td>0</td>\n",
       "      <td>1</td>\n",
       "      <td>0</td>\n",
       "      <td>0</td>\n",
       "      <td>1</td>\n",
       "    </tr>\n",
       "  </tbody>\n",
       "</table>\n",
       "</div>"
      ],
      "text/plain": [
       "   Pclass   Age  SibSp  Parch     Fare  Sex_female  Sex_male  Embarked_C  \\\n",
       "0       3  22.0      1      0   7.2500           0         1           0   \n",
       "1       1  38.0      1      0  71.2833           1         0           1   \n",
       "2       3  26.0      0      0   7.9250           1         0           0   \n",
       "3       1  35.0      1      0  53.1000           1         0           0   \n",
       "4       3  35.0      0      0   8.0500           0         1           0   \n",
       "\n",
       "   Embarked_Q  Embarked_S  \n",
       "0           0           1  \n",
       "1           0           0  \n",
       "2           0           1  \n",
       "3           0           1  \n",
       "4           0           1  "
      ]
     },
     "execution_count": 36,
     "metadata": {},
     "output_type": "execute_result"
    }
   ],
   "source": [
    "X.head()"
   ]
  },
  {
   "cell_type": "code",
   "execution_count": 37,
   "id": "fbe0d754",
   "metadata": {},
   "outputs": [
    {
     "data": {
      "text/plain": [
       "0    0\n",
       "1    1\n",
       "2    1\n",
       "3    1\n",
       "4    0\n",
       "Name: Survived, dtype: int64"
      ]
     },
     "execution_count": 37,
     "metadata": {},
     "output_type": "execute_result"
    }
   ],
   "source": [
    "y.head()"
   ]
  },
  {
   "cell_type": "code",
   "execution_count": 38,
   "id": "56cbea34",
   "metadata": {},
   "outputs": [
    {
     "data": {
      "text/plain": [
       "((712, 10), (179, 10), (712,), (179,))"
      ]
     },
     "execution_count": 38,
     "metadata": {},
     "output_type": "execute_result"
    }
   ],
   "source": [
    "X_train,X_test,y_train,y_test=train_test_split(X,y,test_size=0.2,random_state=42)\n",
    "X_train.shape,X_test.shape,y_train.shape,y_test.shape"
   ]
  },
  {
   "cell_type": "markdown",
   "id": "647477df",
   "metadata": {},
   "source": [
    "## Applying the xgboost model"
   ]
  },
  {
   "cell_type": "code",
   "execution_count": 39,
   "id": "9e9155d1",
   "metadata": {},
   "outputs": [],
   "source": [
    "#!pip install xgboost"
   ]
  },
  {
   "cell_type": "code",
   "execution_count": 40,
   "id": "bb30a92c",
   "metadata": {},
   "outputs": [],
   "source": [
    "import xgboost as xgb\n",
    "import matplotlib.pyplot as plt\n",
    "import seaborn as sns"
   ]
  },
  {
   "cell_type": "code",
   "execution_count": 41,
   "id": "7c2158d9",
   "metadata": {},
   "outputs": [],
   "source": [
    "dtrain = xgb.DMatrix(X_train,y_train)\n",
    "dtest = xgb.DMatrix(X_test)"
   ]
  },
  {
   "cell_type": "code",
   "execution_count": 42,
   "id": "4f386670",
   "metadata": {},
   "outputs": [],
   "source": [
    "#setting parameters for xgboost\n",
    "parameters={'max_depth':7, 'eta':1, 'silent':1,'objective':'binary:logistic','eval_metric':'auc','learning_rate':.05}"
   ]
  },
  {
   "cell_type": "code",
   "execution_count": 43,
   "id": "0aa52ccf",
   "metadata": {},
   "outputs": [],
   "source": [
    "xg=xgb.train(parameters,dtrain) "
   ]
  },
  {
   "cell_type": "code",
   "execution_count": 44,
   "id": "0d9a01a1",
   "metadata": {},
   "outputs": [
    {
     "data": {
      "text/plain": [
       "array([0.27802685, 0.2719516 , 0.2719516 , 0.6075237 , 0.45155433,\n",
       "       0.6075237 , 0.5034338 , 0.2627318 , 0.49026084, 0.6075237 ,\n",
       "       0.36003226, 0.2646557 , 0.2642213 , 0.27802685, 0.2646557 ,\n",
       "       0.6075237 , 0.3419888 , 0.5034338 , 0.2719516 , 0.27997676,\n",
       "       0.2719516 , 0.48333701, 0.4052293 , 0.2719516 , 0.2627318 ,\n",
       "       0.3839342 , 0.37187394, 0.2719516 , 0.308362  , 0.43871439,\n",
       "       0.2719516 , 0.460567  , 0.36864763, 0.4781597 , 0.2719516 ,\n",
       "       0.307943  , 0.31674647, 0.5034338 , 0.6075237 , 0.2719516 ,\n",
       "       0.2791003 , 0.2719516 , 0.2719516 , 0.2719516 , 0.32928327,\n",
       "       0.2627318 , 0.2719516 , 0.2719516 , 0.2719516 , 0.34673464,\n",
       "       0.5304911 , 0.6075237 , 0.25559643, 0.37825465, 0.2981656 ,\n",
       "       0.6075237 , 0.3078803 , 0.6075237 , 0.6075237 , 0.49026084,\n",
       "       0.2719516 , 0.6075237 , 0.6075237 , 0.2791003 , 0.2719516 ,\n",
       "       0.6075237 , 0.2791003 , 0.2719516 , 0.36250758, 0.6075237 ,\n",
       "       0.6075237 , 0.6075237 , 0.36864763, 0.6075237 , 0.2719516 ,\n",
       "       0.25559643, 0.5034338 , 0.6075237 , 0.6075237 , 0.3499999 ,\n",
       "       0.2627318 , 0.6075237 , 0.6075237 , 0.2719516 , 0.30944312,\n",
       "       0.37755346, 0.6075237 , 0.6075237 , 0.2791003 , 0.2719516 ,\n",
       "       0.3839342 , 0.2786046 , 0.31127423, 0.2719516 , 0.2719516 ,\n",
       "       0.2719516 , 0.3093757 , 0.2646557 , 0.6075237 , 0.2719516 ,\n",
       "       0.2791003 , 0.2646557 , 0.6075237 , 0.2646557 , 0.2719516 ,\n",
       "       0.2719516 , 0.6075237 , 0.27997676, 0.2719516 , 0.418913  ,\n",
       "       0.6075237 , 0.2719516 , 0.6075237 , 0.48333701, 0.35991302,\n",
       "       0.2719516 , 0.40939212, 0.2706286 , 0.6075237 , 0.2642213 ,\n",
       "       0.2719516 , 0.6075237 , 0.6075237 , 0.58194184, 0.2719516 ,\n",
       "       0.37187394, 0.6075237 , 0.4289607 , 0.32525837, 0.2719516 ,\n",
       "       0.5034338 , 0.27802685, 0.2719516 , 0.49848747, 0.42581248,\n",
       "       0.34055465, 0.6075237 , 0.2719516 , 0.2646557 , 0.37284473,\n",
       "       0.2719516 , 0.6075237 , 0.2719516 , 0.25559643, 0.2642213 ,\n",
       "       0.6075237 , 0.2719516 , 0.2981656 , 0.6075237 , 0.2646557 ,\n",
       "       0.27802685, 0.2719516 , 0.2719516 , 0.2642213 , 0.2719516 ,\n",
       "       0.2719516 , 0.45376134, 0.5034338 , 0.6075237 , 0.5654828 ,\n",
       "       0.307943  , 0.47988248, 0.2646557 , 0.6075237 , 0.2719516 ,\n",
       "       0.40354463, 0.2719516 , 0.6075237 , 0.2719516 , 0.2646557 ,\n",
       "       0.4289607 , 0.6075237 , 0.48333701, 0.36283654, 0.2719516 ,\n",
       "       0.27802685, 0.2642213 , 0.6075237 , 0.5058092 ], dtype=float32)"
      ]
     },
     "execution_count": 44,
     "metadata": {},
     "output_type": "execute_result"
    }
   ],
   "source": [
    "ypred=xg.predict(dtest) \n",
    "ypred"
   ]
  },
  {
   "cell_type": "code",
   "execution_count": 45,
   "id": "f0f6ada5",
   "metadata": {},
   "outputs": [
    {
     "data": {
      "text/plain": [
       "0.6075237"
      ]
     },
     "execution_count": 45,
     "metadata": {},
     "output_type": "execute_result"
    }
   ],
   "source": [
    "maxProb = np.amax(ypred)\n",
    "maxProb"
   ]
  },
  {
   "cell_type": "code",
   "execution_count": 46,
   "id": "12a61431",
   "metadata": {},
   "outputs": [],
   "source": [
    "#Converting probabilities into 1 or 0  \n",
    "threshold = 0.5\n",
    "for i in range(0,len(ypred)):\n",
    "    if ypred[i] >= threshold:\n",
    "        ypred[i] = 1\n",
    "    else:\n",
    "        ypred[i] = 0"
   ]
  },
  {
   "cell_type": "code",
   "execution_count": 47,
   "id": "8a2404d6",
   "metadata": {},
   "outputs": [
    {
     "data": {
      "text/plain": [
       "0.7988826815642458"
      ]
     },
     "execution_count": 47,
     "metadata": {},
     "output_type": "execute_result"
    }
   ],
   "source": [
    "#calculating accuracy of our model \n",
    "from sklearn.metrics import accuracy_score\n",
    "accuracy_xgb = accuracy_score(y_test,ypred)\n",
    "accuracy_xgb"
   ]
  },
  {
   "cell_type": "code",
   "execution_count": 49,
   "id": "bbb1a232",
   "metadata": {},
   "outputs": [
    {
     "data": {
      "text/plain": [
       "0.7687258687258688"
      ]
     },
     "execution_count": 49,
     "metadata": {},
     "output_type": "execute_result"
    }
   ],
   "source": [
    "from sklearn.metrics import roc_auc_score\n",
    "auc_xgb = roc_auc_score(y_test,ypred)\n",
    "auc_xgb"
   ]
  },
  {
   "cell_type": "code",
   "execution_count": 50,
   "id": "39e66c64",
   "metadata": {},
   "outputs": [
    {
     "data": {
      "text/plain": [
       "0.7687258687258688"
      ]
     },
     "execution_count": 50,
     "metadata": {},
     "output_type": "execute_result"
    }
   ],
   "source": [
    "fpr_xgb,tpr_xgb, threshold = roc_curve(y_test,ypred)\n",
    "roc_auc_xgb = auc(fpr_xgb,tpr_xgb)\n",
    "roc_auc_xgb"
   ]
  },
  {
   "cell_type": "markdown",
   "id": "34344bdd",
   "metadata": {},
   "source": [
    "## Ploting the ROC curve for XGBOOST"
   ]
  },
  {
   "cell_type": "code",
   "execution_count": 51,
   "id": "f1d21381",
   "metadata": {},
   "outputs": [
    {
     "data": {
      "image/png": "[encoded data removed]",
      "text/plain": [
       "<Figure size 432x288 with 1 Axes>"
      ]
     },
     "metadata": {
      "needs_background": "light"
     },
     "output_type": "display_data"
    }
   ],
   "source": [
    "import matplotlib.pyplot as plt\n",
    "%matplotlib inline\n",
    "\n",
    "def plotROC(tpr, fpr, label=''):\n",
    "    \"\"\"\n",
    "    Plot ROC curve from tpr and fpr.\n",
    "    \"\"\"\n",
    "    plt.plot(fpr, tpr, color='darkorange',label=label)\n",
    "    plt.plot([0, 1], [0, 1], color='navy',linestyle='--')\n",
    "\n",
    "    plt.legend()\n",
    "    plt.ylabel('True positive rate.')\n",
    "    plt.xlabel('False positive rate')\n",
    "    plt.show()\n",
    "\n",
    "\n",
    "label_xgboost = 'xgboost: ROC curve (area = %0.2f)'%roc_auc_xgb\n",
    "plotROC(tpr_xgb,fpr_xgb,label_xgboost) "
   ]
  },
  {
   "cell_type": "markdown",
   "id": "b3f73d8c",
   "metadata": {},
   "source": [
    "## Applying Light GBM Model"
   ]
  },
  {
   "cell_type": "code",
   "execution_count": 52,
   "id": "6ba98fd8",
   "metadata": {},
   "outputs": [],
   "source": [
    "#!pip install lightgbm"
   ]
  },
  {
   "cell_type": "code",
   "execution_count": 53,
   "id": "2d6bb172",
   "metadata": {},
   "outputs": [],
   "source": [
    "import lightgbm as lgb"
   ]
  },
  {
   "cell_type": "code",
   "execution_count": 54,
   "id": "e83b5ddc",
   "metadata": {},
   "outputs": [],
   "source": [
    "# Setting the training data\n",
    "\n",
    "train_data = lgb.Dataset(X_train,label = y_train)\n",
    "\n",
    "# Setting the parameters for LightGBM\n",
    "param = {'num_leaves':150,'objective':'binary','max_depth':7,'learning_rate':0.5,'max_bin':200}\n",
    "param['metric'] = ['auc','binary_logloss']"
   ]
  },
  {
   "cell_type": "code",
   "execution_count": 55,
   "id": "83b98298",
   "metadata": {},
   "outputs": [
    {
     "name": "stdout",
     "output_type": "stream",
     "text": [
      "[LightGBM] [Info] Number of positive: 268, number of negative: 444\n",
      "[LightGBM] [Info] Auto-choosing row-wise multi-threading, the overhead of testing was 0.002083 seconds.\n",
      "You can set `force_row_wise=true` to remove the overhead.\n",
      "And if memory is not enough, you can set `force_col_wise=true`.\n",
      "[LightGBM] [Info] Total Bins 264\n",
      "[LightGBM] [Info] Number of data points in the train set: 712, number of used features: 10\n",
      "[LightGBM] [Info] [binary:BoostFromScore]: pavg=0.376404 -> initscore=-0.504838\n",
      "[LightGBM] [Info] Start training from score -0.504838\n",
      "[LightGBM] [Warning] No further splits with positive gain, best gain: -inf\n",
      "[LightGBM] [Warning] No further splits with positive gain, best gain: -inf\n",
      "[LightGBM] [Warning] No further splits with positive gain, best gain: -inf\n",
      "[LightGBM] [Warning] No further splits with positive gain, best gain: -inf\n",
      "[LightGBM] [Warning] No further splits with positive gain, best gain: -inf\n",
      "[LightGBM] [Warning] No further splits with positive gain, best gain: -inf\n",
      "[LightGBM] [Warning] No further splits with positive gain, best gain: -inf\n",
      "[LightGBM] [Warning] No further splits with positive gain, best gain: -inf\n",
      "[LightGBM] [Warning] No further splits with positive gain, best gain: -inf\n",
      "[LightGBM] [Warning] No further splits with positive gain, best gain: -inf\n",
      "[LightGBM] [Warning] No further splits with positive gain, best gain: -inf\n",
      "[LightGBM] [Warning] No further splits with positive gain, best gain: -inf\n",
      "[LightGBM] [Warning] No further splits with positive gain, best gain: -inf\n",
      "[LightGBM] [Warning] No further splits with positive gain, best gain: -inf\n",
      "[LightGBM] [Warning] No further splits with positive gain, best gain: -inf\n",
      "[LightGBM] [Warning] No further splits with positive gain, best gain: -inf\n",
      "[LightGBM] [Warning] No further splits with positive gain, best gain: -inf\n",
      "[LightGBM] [Warning] No further splits with positive gain, best gain: -inf\n",
      "[LightGBM] [Warning] No further splits with positive gain, best gain: -inf\n",
      "[LightGBM] [Warning] No further splits with positive gain, best gain: -inf\n",
      "[LightGBM] [Warning] No further splits with positive gain, best gain: -inf\n",
      "[LightGBM] [Warning] No further splits with positive gain, best gain: -inf\n",
      "[LightGBM] [Warning] No further splits with positive gain, best gain: -inf\n",
      "[LightGBM] [Warning] No further splits with positive gain, best gain: -inf\n",
      "[LightGBM] [Warning] No further splits with positive gain, best gain: -inf\n",
      "[LightGBM] [Warning] No further splits with positive gain, best gain: -inf\n",
      "[LightGBM] [Warning] No further splits with positive gain, best gain: -inf\n",
      "[LightGBM] [Warning] No further splits with positive gain, best gain: -inf\n",
      "[LightGBM] [Warning] No further splits with positive gain, best gain: -inf\n",
      "[LightGBM] [Warning] No further splits with positive gain, best gain: -inf\n",
      "[LightGBM] [Warning] No further splits with positive gain, best gain: -inf\n",
      "[LightGBM] [Warning] No further splits with positive gain, best gain: -inf\n",
      "[LightGBM] [Warning] No further splits with positive gain, best gain: -inf\n",
      "[LightGBM] [Warning] No further splits with positive gain, best gain: -inf\n",
      "[LightGBM] [Warning] No further splits with positive gain, best gain: -inf\n",
      "[LightGBM] [Warning] No further splits with positive gain, best gain: -inf\n",
      "[LightGBM] [Warning] No further splits with positive gain, best gain: -inf\n",
      "[LightGBM] [Warning] No further splits with positive gain, best gain: -inf\n",
      "[LightGBM] [Warning] No further splits with positive gain, best gain: -inf\n",
      "[LightGBM] [Warning] No further splits with positive gain, best gain: -inf\n",
      "[LightGBM] [Warning] No further splits with positive gain, best gain: -inf\n",
      "[LightGBM] [Warning] No further splits with positive gain, best gain: -inf\n",
      "[LightGBM] [Warning] No further splits with positive gain, best gain: -inf\n",
      "[LightGBM] [Warning] No further splits with positive gain, best gain: -inf\n",
      "[LightGBM] [Warning] No further splits with positive gain, best gain: -inf\n",
      "[LightGBM] [Warning] No further splits with positive gain, best gain: -inf\n",
      "[LightGBM] [Warning] No further splits with positive gain, best gain: -inf\n",
      "[LightGBM] [Warning] No further splits with positive gain, best gain: -inf\n",
      "[LightGBM] [Warning] No further splits with positive gain, best gain: -inf\n",
      "[LightGBM] [Warning] No further splits with positive gain, best gain: -inf\n",
      "[LightGBM] [Warning] No further splits with positive gain, best gain: -inf\n",
      "[LightGBM] [Warning] No further splits with positive gain, best gain: -inf\n",
      "[LightGBM] [Warning] No further splits with positive gain, best gain: -inf\n",
      "[LightGBM] [Warning] No further splits with positive gain, best gain: -inf\n",
      "[LightGBM] [Warning] No further splits with positive gain, best gain: -inf\n",
      "[LightGBM] [Warning] No further splits with positive gain, best gain: -inf\n",
      "[LightGBM] [Warning] No further splits with positive gain, best gain: -inf\n",
      "[LightGBM] [Warning] No further splits with positive gain, best gain: -inf\n",
      "[LightGBM] [Warning] No further splits with positive gain, best gain: -inf\n",
      "[LightGBM] [Warning] No further splits with positive gain, best gain: -inf\n",
      "[LightGBM] [Warning] No further splits with positive gain, best gain: -inf\n",
      "[LightGBM] [Warning] No further splits with positive gain, best gain: -inf\n",
      "[LightGBM] [Warning] No further splits with positive gain, best gain: -inf\n",
      "[LightGBM] [Warning] No further splits with positive gain, best gain: -inf\n",
      "[LightGBM] [Warning] No further splits with positive gain, best gain: -inf\n",
      "[LightGBM] [Warning] No further splits with positive gain, best gain: -inf\n",
      "[LightGBM] [Warning] No further splits with positive gain, best gain: -inf\n",
      "[LightGBM] [Warning] No further splits with positive gain, best gain: -inf\n",
      "[LightGBM] [Warning] No further splits with positive gain, best gain: -inf\n",
      "[LightGBM] [Warning] No further splits with positive gain, best gain: -inf\n",
      "[LightGBM] [Warning] No further splits with positive gain, best gain: -inf\n",
      "[LightGBM] [Warning] No further splits with positive gain, best gain: -inf\n",
      "[LightGBM] [Warning] No further splits with positive gain, best gain: -inf\n",
      "[LightGBM] [Warning] No further splits with positive gain, best gain: -inf\n",
      "[LightGBM] [Warning] No further splits with positive gain, best gain: -inf\n",
      "[LightGBM] [Warning] No further splits with positive gain, best gain: -inf\n",
      "[LightGBM] [Warning] No further splits with positive gain, best gain: -inf\n",
      "[LightGBM] [Warning] No further splits with positive gain, best gain: -inf\n",
      "[LightGBM] [Warning] No further splits with positive gain, best gain: -inf\n",
      "[LightGBM] [Warning] No further splits with positive gain, best gain: -inf\n",
      "[LightGBM] [Warning] No further splits with positive gain, best gain: -inf\n",
      "[LightGBM] [Warning] No further splits with positive gain, best gain: -inf\n",
      "[LightGBM] [Warning] No further splits with positive gain, best gain: -inf\n",
      "[LightGBM] [Warning] No further splits with positive gain, best gain: -inf\n",
      "[LightGBM] [Warning] No further splits with positive gain, best gain: -inf\n",
      "[LightGBM] [Warning] No further splits with positive gain, best gain: -inf\n",
      "[LightGBM] [Warning] No further splits with positive gain, best gain: -inf\n",
      "[LightGBM] [Warning] No further splits with positive gain, best gain: -inf\n",
      "[LightGBM] [Warning] No further splits with positive gain, best gain: -inf\n",
      "[LightGBM] [Warning] No further splits with positive gain, best gain: -inf\n",
      "[LightGBM] [Warning] No further splits with positive gain, best gain: -inf\n",
      "[LightGBM] [Warning] No further splits with positive gain, best gain: -inf\n",
      "[LightGBM] [Warning] No further splits with positive gain, best gain: -inf\n",
      "[LightGBM] [Warning] No further splits with positive gain, best gain: -inf\n",
      "[LightGBM] [Warning] No further splits with positive gain, best gain: -inf\n",
      "[LightGBM] [Warning] No further splits with positive gain, best gain: -inf\n",
      "[LightGBM] [Warning] No further splits with positive gain, best gain: -inf\n",
      "[LightGBM] [Warning] No further splits with positive gain, best gain: -inf\n",
      "[LightGBM] [Warning] No further splits with positive gain, best gain: -inf\n",
      "[LightGBM] [Warning] No further splits with positive gain, best gain: -inf\n"
     ]
    }
   ],
   "source": [
    "lgbm = lgb.train(param,train_data)"
   ]
  },
  {
   "cell_type": "code",
   "execution_count": 56,
   "id": "604ba4cc",
   "metadata": {},
   "outputs": [
    {
     "data": {
      "text/plain": [
       "array([1.75209207e-03, 1.47411380e-01, 2.70048231e-01, 9.99998133e-01,\n",
       "       8.92186665e-01, 9.98634616e-01, 8.06367269e-01, 1.49819397e-05,\n",
       "       3.47009434e-01, 9.99817063e-01, 9.15061265e-01, 1.32822963e-01,\n",
       "       1.54956273e-02, 5.42513882e-03, 1.12271524e-01, 9.99604580e-01,\n",
       "       7.29901847e-01, 8.06491044e-01, 1.05178388e-01, 7.79905924e-05,\n",
       "       3.61326890e-05, 9.36255881e-01, 2.74944867e-01, 3.29598543e-03,\n",
       "       4.13319949e-03, 4.08636638e-06, 1.19692649e-02, 5.71980723e-01,\n",
       "       2.91177489e-02, 9.58657270e-01, 5.67878255e-03, 7.81427847e-01,\n",
       "       9.82588846e-01, 4.88386325e-01, 2.76316901e-01, 2.41713383e-02,\n",
       "       1.60483255e-01, 8.06367269e-01, 9.98323101e-01, 4.00709588e-03,\n",
       "       1.83381342e-03, 9.68518209e-04, 1.08385841e-02, 1.32687217e-01,\n",
       "       1.53178742e-03, 7.24917161e-04, 8.26463846e-01, 2.50703243e-05,\n",
       "       8.75787376e-02, 2.24669848e-01, 9.98435637e-01, 9.99871819e-01,\n",
       "       1.00333088e-05, 9.69320688e-01, 4.31684742e-03, 9.99412412e-01,\n",
       "       2.00696854e-01, 9.52731193e-01, 9.96951031e-01, 2.18029334e-01,\n",
       "       3.66681758e-01, 9.07001893e-01, 9.89758166e-01, 3.99736833e-02,\n",
       "       1.32687217e-01, 9.99952301e-01, 5.07005804e-03, 6.13530485e-01,\n",
       "       2.87404124e-02, 9.99849394e-01, 9.60515729e-01, 9.79037117e-01,\n",
       "       9.97794480e-01, 9.99995253e-01, 5.59964736e-04, 9.27511435e-04,\n",
       "       5.75149013e-01, 9.99794165e-01, 9.99883884e-01, 9.05125727e-01,\n",
       "       1.79771030e-06, 9.99525075e-01, 9.99991704e-01, 3.51577515e-02,\n",
       "       9.29797784e-01, 9.15250092e-02, 9.99739122e-01, 9.99981130e-01,\n",
       "       1.85349022e-03, 2.15923512e-03, 6.45102480e-01, 2.85823556e-04,\n",
       "       7.53271835e-02, 2.91674959e-02, 4.00709588e-03, 2.88306219e-02,\n",
       "       4.21991586e-03, 7.58468453e-03, 9.99924723e-01, 1.17205598e-01,\n",
       "       1.31001174e-02, 1.40388952e-05, 9.99984674e-01, 1.93883234e-05,\n",
       "       8.83847889e-03, 6.60621497e-01, 9.99217823e-01, 7.40080072e-04,\n",
       "       9.82500827e-03, 1.06514175e-01, 9.92651710e-01, 6.04861044e-02,\n",
       "       9.99836599e-01, 9.54702794e-01, 3.22447654e-02, 9.01108018e-03,\n",
       "       6.56422464e-01, 1.05330485e-01, 9.98825772e-01, 9.60420986e-03,\n",
       "       2.63281669e-03, 9.99991367e-01, 9.99420074e-01, 9.63914208e-01,\n",
       "       2.16837501e-03, 6.16694497e-01, 9.90633615e-01, 1.74826939e-01,\n",
       "       2.76043289e-02, 2.54008077e-03, 9.33908575e-01, 1.75209207e-03,\n",
       "       1.51613492e-02, 9.87197512e-01, 5.87806565e-01, 5.04698483e-03,\n",
       "       9.96809947e-01, 7.00283257e-01, 6.11416343e-04, 8.79102609e-03,\n",
       "       5.44466874e-04, 9.99630025e-01, 6.85470969e-03, 2.97164045e-02,\n",
       "       3.35052724e-03, 9.99965602e-01, 9.25728883e-02, 3.88634176e-01,\n",
       "       9.13943686e-01, 1.32822963e-01, 2.70647169e-01, 6.74413380e-03,\n",
       "       3.17213340e-02, 1.69632433e-01, 1.08385841e-02, 2.73153782e-04,\n",
       "       4.49360010e-01, 8.98079891e-01, 9.99786350e-01, 9.99286658e-01,\n",
       "       1.41779190e-01, 2.58006668e-01, 6.83827697e-02, 9.98331159e-01,\n",
       "       1.75928958e-02, 2.33964636e-01, 6.24204512e-05, 9.92651710e-01,\n",
       "       6.04581555e-05, 1.40388952e-05, 9.10065559e-01, 9.98166455e-01,\n",
       "       9.54702794e-01, 6.44266878e-01, 4.05564269e-04, 3.51249181e-02,\n",
       "       1.82180878e-02, 9.99047748e-01, 9.80427692e-01])"
      ]
     },
     "execution_count": 56,
     "metadata": {},
     "output_type": "execute_result"
    }
   ],
   "source": [
    "ypred_lgbm = lgbm.predict(X_test)\n",
    "ypred_lgbm"
   ]
  },
  {
   "cell_type": "code",
   "execution_count": 57,
   "id": "f6a64ea2",
   "metadata": {},
   "outputs": [],
   "source": [
    "#Converting probabilities into 1 or 0  \n",
    "threshold = 0.5\n",
    "for i in range(0,len(ypred_lgbm)):\n",
    "    if ypred_lgbm[i] >= threshold:\n",
    "        ypred_lgbm[i] = 1\n",
    "    else:\n",
    "        ypred_lgbm[i] = 0"
   ]
  },
  {
   "cell_type": "code",
   "execution_count": 58,
   "id": "2df64ce8",
   "metadata": {},
   "outputs": [
    {
     "data": {
      "text/plain": [
       "0.8156424581005587"
      ]
     },
     "execution_count": 58,
     "metadata": {},
     "output_type": "execute_result"
    }
   ],
   "source": [
    "accuracy_lgbm = accuracy_score(ypred_lgbm,y_test)\n",
    "accuracy_lgbm"
   ]
  },
  {
   "cell_type": "code",
   "execution_count": 59,
   "id": "3743ac8c",
   "metadata": {},
   "outputs": [
    {
     "data": {
      "text/plain": [
       "0.8109395109395109"
      ]
     },
     "execution_count": 59,
     "metadata": {},
     "output_type": "execute_result"
    }
   ],
   "source": [
    "auc_lgbm = roc_auc_score(y_test,ypred_lgbm)\n",
    "auc_lgbm"
   ]
  },
  {
   "cell_type": "code",
   "execution_count": 60,
   "id": "e240c8a8",
   "metadata": {},
   "outputs": [
    {
     "data": {
      "text/plain": [
       "0.8109395109395109"
      ]
     },
     "execution_count": 60,
     "metadata": {},
     "output_type": "execute_result"
    }
   ],
   "source": [
    "fpr_lgbm,tpr_lgbm, threshold = roc_curve(y_test,ypred_lgbm)\n",
    "roc_auc_lgbm = auc(fpr_lgbm,tpr_lgbm)    \n",
    "roc_auc_lgbm"
   ]
  },
  {
   "cell_type": "markdown",
   "id": "f0989749",
   "metadata": {},
   "source": [
    "## Ploting the ROC curve for Lightgbm"
   ]
  },
  {
   "cell_type": "code",
   "execution_count": 61,
   "id": "8a598e6b",
   "metadata": {},
   "outputs": [
    {
     "data": {
      "image/png": "[encoded data removed]",
      "text/plain": [
       "<Figure size 432x288 with 1 Axes>"
      ]
     },
     "metadata": {
      "needs_background": "light"
     },
     "output_type": "display_data"
    }
   ],
   "source": [
    "def plotROC(tpr, fpr, label=''):\n",
    "    \"\"\"\n",
    "    Plot ROC curve from tpr and fpr.\n",
    "    \"\"\"\n",
    "    plt.plot(fpr, tpr, color='darkorange',label=label)\n",
    "    plt.plot([0, 1], [0, 1], color='navy',linestyle='--')\n",
    "\n",
    "    plt.legend()\n",
    "    plt.ylabel('True positive rate.')\n",
    "    plt.xlabel('False positive rate')\n",
    "    plt.show()\n",
    "\n",
    "label_lgbm = 'Light GBM: ROC curve (area = %0.2f)'%roc_auc_lgbm\n",
    "plotROC(tpr_lgbm,fpr_lgbm,label_lgbm)  "
   ]
  },
  {
   "cell_type": "markdown",
   "id": "f37e2c1a",
   "metadata": {},
   "source": [
    "## Comparing XGBOOST AND LIGHT GBM"
   ]
  },
  {
   "cell_type": "code",
   "execution_count": 62,
   "id": "8c1a0015",
   "metadata": {},
   "outputs": [
    {
     "data": {
      "text/plain": [
       "{'accuracy scores:': (0.8156424581005587, 0.7988826815642458),\n",
       " 'auc scores:': (0.8109395109395109, 0.7687258687258688)}"
      ]
     },
     "execution_count": 62,
     "metadata": {},
     "output_type": "execute_result"
    }
   ],
   "source": [
    "compare_dict = {'accuracy scores:':(accuracy_lgbm,accuracy_xgb),\\\n",
    "                'auc scores:':(auc_lgbm,auc_xgb),\n",
    "                }\n",
    "compare_dict"
   ]
  },
  {
   "cell_type": "code",
   "execution_count": 63,
   "id": "8d2b99d4",
   "metadata": {},
   "outputs": [
    {
     "data": {
      "text/html": [
       "<div>\n",
       "<style scoped>\n",
       "    .dataframe tbody tr th:only-of-type {\n",
       "        vertical-align: middle;\n",
       "    }\n",
       "\n",
       "    .dataframe tbody tr th {\n",
       "        vertical-align: top;\n",
       "    }\n",
       "\n",
       "    .dataframe thead th {\n",
       "        text-align: right;\n",
       "    }\n",
       "</style>\n",
       "<table border=\"1\" class=\"dataframe\">\n",
       "  <thead>\n",
       "    <tr style=\"text-align: right;\">\n",
       "      <th></th>\n",
       "      <th>accuracy scores:</th>\n",
       "      <th>auc scores:</th>\n",
       "    </tr>\n",
       "  </thead>\n",
       "  <tbody>\n",
       "    <tr>\n",
       "      <th>LightGBM</th>\n",
       "      <td>0.815642</td>\n",
       "      <td>0.810940</td>\n",
       "    </tr>\n",
       "    <tr>\n",
       "      <th>xgboost</th>\n",
       "      <td>0.798883</td>\n",
       "      <td>0.768726</td>\n",
       "    </tr>\n",
       "  </tbody>\n",
       "</table>\n",
       "</div>"
      ],
      "text/plain": [
       "          accuracy scores:  auc scores:\n",
       "LightGBM          0.815642     0.810940\n",
       "xgboost           0.798883     0.768726"
      ]
     },
     "execution_count": 63,
     "metadata": {},
     "output_type": "execute_result"
    }
   ],
   "source": [
    "LightGBM_vs_xgboost = pd.DataFrame(compare_dict)\n",
    "LightGBM_vs_xgboost.index = ['LightGBM','xgboost']\n",
    "LightGBM_vs_xgboost"
   ]
  },
  {
   "cell_type": "markdown",
   "id": "cfccb14c",
   "metadata": {},
   "source": [
    "Conclusion:\n",
    "\n",
    "    Light GBM is slightly better than Xgboost"
   ]
  },
  {
   "cell_type": "code",
   "execution_count": null,
   "id": "e2abb4ab",
   "metadata": {},
   "outputs": [],
   "source": []
  }
 ],
 "metadata": {
  "kernelspec": {
   "display_name": "Python 3 (ipykernel)",
   "language": "python",
   "name": "python3"
  },
  "language_info": {
   "codemirror_mode": {
    "name": "ipython",
    "version": 3
   },
   "file_extension": ".py",
   "mimetype": "text/x-python",
   "name": "python",
   "nbconvert_exporter": "python",
   "pygments_lexer": "ipython3",
   "version": "3.9.21"
  }
 },
 "nbformat": 4,
 "nbformat_minor": 5
}
